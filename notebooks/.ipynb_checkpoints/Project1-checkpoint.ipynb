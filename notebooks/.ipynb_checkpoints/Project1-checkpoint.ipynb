{
 "cells": [
  {
   "cell_type": "code",
   "execution_count": 2,
   "id": "047d1ac8-2cc6-4efa-8fa8-9ba03ad162e5",
   "metadata": {},
   "outputs": [],
   "source": [
    "import pandas as pd                          \n",
    "import matplotlib.pyplot as plt \n",
    "import numpy as np"
   ]
  },
  {
   "cell_type": "code",
   "execution_count": null,
   "id": "2e23e0c1-eb9b-4c75-b9d9-19332ea1edac",
   "metadata": {},
   "outputs": [],
   "source": [
    "ees_climate_dir = 'C:/Users/TU_Climate24_Student/Desktop/ees_climate/'\n",
    "solar_constant_data = pd.read_csv(\"https://spot.colorado.edu/~koppg/TSI/Historical_TSI_Reconstruction.txt\", skiprows=6, sep=' ').rename(columns={';':'year','Year':'NaN', 'Unnamed: 2':'NaN2', 'Unnamed: 3':'NaN3','TSI':'NaN4', '[W/m^2]':'TSI [W/m^2]'})\n",
    "Nasa_Gis_Data= pd.read_csv\n",
    "\n"
   ]
  }
 ],
 "metadata": {
  "kernelspec": {
   "display_name": "Python 3 (ipykernel)",
   "language": "python",
   "name": "python3"
  },
  "language_info": {
   "codemirror_mode": {
    "name": "ipython",
    "version": 3
   },
   "file_extension": ".py",
   "mimetype": "text/x-python",
   "name": "python",
   "nbconvert_exporter": "python",
   "pygments_lexer": "ipython3",
   "version": "3.11.9"
  }
 },
 "nbformat": 4,
 "nbformat_minor": 5
}
